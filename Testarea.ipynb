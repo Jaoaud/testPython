{
 "cells": [
  {
   "cell_type": "code",
   "execution_count": null,
   "metadata": {},
   "outputs": [],
   "source": [
    "def small_enough(array, limit):\n",
    "   \n",
    "    for i in str(limit):\n",
    "        if array < limit:\n",
    "            return str(True)\n",
    "        return False\n",
    "    \n",
    "    \n",
    "a = small_enough(22,78)\n",
    "print(a)"
   ]
  },
  {
   "cell_type": "code",
   "execution_count": null,
   "metadata": {},
   "outputs": [],
   "source": [
    "def c(*params):\n",
    "    #print(params)\n",
    "    \n",
    "    c_max = params[0]\n",
    "    for i in params:\n",
    "        if i > c_max:\n",
    "            c_max = i\n",
    "    return c_max\n",
    "\n",
    "l = c(1,8,2,3,4,5,6)\n",
    "print(l)"
   ]
  },
  {
   "cell_type": "code",
   "execution_count": null,
   "metadata": {},
   "outputs": [],
   "source": [
    "liste1 = [[1, 2], [3, 4], [5, 6]]\n",
    "liste2 = [2, 1]\n",
    "\n",
    "liste2 in liste1\n",
    "\n",
    "False\n",
    "\n",
    "liste1 = [[1, 2], [3, 4], [5, 6]]\n",
    "liste2 = [1, 2]\n",
    "\n",
    "liste2 in liste1\n",
    "\n",
    "True"
   ]
  },
  {
   "cell_type": "code",
   "execution_count": null,
   "metadata": {},
   "outputs": [],
   "source": [
    "def sort_array(source_array):\n",
    "    r = []\n",
    "    x = sorted(source_array, key = lambda x:x[0-2])\n",
    "    r.append(x)\n",
    "    return r\n",
    "\n",
    "#sort_array()"
   ]
  },
  {
   "cell_type": "code",
   "execution_count": null,
   "metadata": {},
   "outputs": [],
   "source": [
    "fg"
   ]
  },
  {
   "cell_type": "code",
   "execution_count": null,
   "metadata": {},
   "outputs": [],
   "source": [
    "def bmi(Underweight, Normal, Overweight, Obese):\n",
    "    for i in bmi:\n",
    "        bmi = \n",
    "        if bmi <= 18.5:\n",
    "            return \"Underweight\"\n",
    "\n",
    "        if bmi <= 25.0:\n",
    "            return \"Normal\"\n",
    "\n",
    "        if bmi <= 30.0:\n",
    "            return \"Overweight\"\n",
    "\n",
    "        if bmi > 30: \n",
    "            return \"Obese\"\n",
    "        \n",
    "bmi(23,34,34,34)\n"
   ]
  },
  {
   "cell_type": "code",
   "execution_count": null,
   "metadata": {},
   "outputs": [],
   "source": [
    "def get_planet_name(id):\n",
    "    \n",
    "    name=\"\"\n",
    "    switch id:\n",
    "        case 1: name = \"Mercury\"\n",
    "        case 2: name = \"Venus\"\n",
    "        case 3: name = \"Earth\"\n",
    "        case 4: name = \"Mars\"\n",
    "        case 5: name = \"Jupiter\"\n",
    "        case 6: name = \"Saturn\"\n",
    "        case 7: name = \"Uranus\"  \n",
    "        case 8: name = \"Neptune\"\n",
    "    return name"
   ]
  },
  {
   "cell_type": "code",
   "execution_count": null,
   "metadata": {},
   "outputs": [],
   "source": [
    "def get_planet_name(id):\n",
    "    \n",
    "    name=\"\"\n",
    "    switch id:\n",
    "        case 1: name = \"Mercury\"\n",
    "        case 2: name = \"Venus\"\n",
    "        case 3: name = \"Earth\"\n",
    "        case 4: name = \"Mars\"\n",
    "        case 5: name = \"Jupiter\"\n",
    "        case 6: name = \"Saturn\"\n",
    "        case 7: name = \"Uranus\"  \n",
    "        case 8: name = \"Neptune\"\n",
    "    return name"
   ]
  },
  {
   "cell_type": "code",
   "execution_count": null,
   "metadata": {
    "scrolled": true
   },
   "outputs": [],
   "source": [
    "dict1 = {case 1: Mercury,case 1: Mercury,case 1: Mercury,case 1: Mercury,case 1: Mercury,case 1: Mercury,case 1: Mercury,case 1: Mercury,}"
   ]
  },
  {
   "cell_type": "code",
   "execution_count": null,
   "metadata": {},
   "outputs": [],
   "source": [
    "d = {1: \"Mercury\", 2: \"Venus\", 3: \"Earth\", 4: \"Mars\", 5: \"Jupiter\", 6: \"Saturn\",\n",
    "          7: \"Uranus\" , 8: \"Neptune\",}\n",
    "def get_planet_name(id):\n",
    "    for key in d:\n",
    "        if key == id:\n",
    "            value = d[key]\n",
    "    return value\n",
    "        \n",
    "\n",
    "get_planet_name(5)\n"
   ]
  },
  {
   "cell_type": "code",
   "execution_count": null,
   "metadata": {},
   "outputs": [],
   "source": [
    "Given [[3, 2, 1], [4, 6, 5], [], [9, 7, 8]], your function should return [1, 2, 3, 4, 5, 6, 7, 8, 9]."
   ]
  },
  {
   "cell_type": "code",
   "execution_count": null,
   "metadata": {},
   "outputs": [],
   "source": [
    "from itertools import chain\n",
    "\n",
    "a =  [[3, 2, 1], [4, 6, 5], [], [9, 7, 8]]\n",
    "r = []\n",
    "for x in a:\n",
    "    x.sort()\n",
    "    r.append(x)\n",
    "    r = sorted(chain(*a))\n",
    "    \n",
    "    \n",
    "print(r)"
   ]
  },
  {
   "cell_type": "code",
   "execution_count": null,
   "metadata": {},
   "outputs": [],
   "source": [
    "from itertools import chain\n",
    "a =  [[3, 2, 1], [4, 6, 5], [], [9, 7, 8]]\n",
    "\n",
    "def flatten_and_sort(array):\n",
    "       \n",
    "    for x in array:\n",
    "        x.sort()\n",
    "        b = sorted(chain(*array))\n",
    "        return b\n",
    "flatten_and_sort(a)"
   ]
  },
  {
   "cell_type": "code",
   "execution_count": null,
   "metadata": {},
   "outputs": [],
   "source": [
    "a = [2,6,7,8,9]\n",
    "a.sort(reverse = True)\n",
    "print(a)"
   ]
  },
  {
   "cell_type": "code",
   "execution_count": null,
   "metadata": {},
   "outputs": [],
   "source": [
    "from itertools import chain\n",
    "a =  [23,34]\n",
    "\n",
    "def flatten_and_sort(array):\n",
    "       \n",
    "    for x in array:\n",
    "        x.sort()\n",
    "        b = sorted(chain(*array))\n",
    "        return b\n",
    "flatten_and_sort(a)"
   ]
  },
  {
   "cell_type": "code",
   "execution_count": 19,
   "metadata": {},
   "outputs": [
    {
     "name": "stdout",
     "output_type": "stream",
     "text": [
      "[['A', '2', '1', ',', ',', ')', '(', \"'\", \"'\", ' ', ' '], ['B', '4', '3', ',', ',', ')', '(', \"'\", \"'\", ' ', ' '], ['C', '6', '5', ',', ',', ')', '(', \"'\", \"'\", ' ', ' ']]\n"
     ]
    }
   ],
   "source": [
    "results = [('A',1,2),('B',3,4),('C',5,6)]\n",
    "High_Scores = []\n",
    "for i in results:\n",
    "    tmp = sorted(str(i), reverse=True)\n",
    "    #tmp = [i[0]]+tmp\n",
    "    #High_Scores.append(tuple(tmp))\n",
    "    High_Scores.append(tmp)\n",
    "print (High_Scores)"
   ]
  },
  {
   "cell_type": "code",
   "execution_count": 20,
   "metadata": {},
   "outputs": [
    {
     "ename": "AttributeError",
     "evalue": "'int' object has no attribute 'sort'",
     "output_type": "error",
     "traceback": [
      "\u001b[1;31m---------------------------------------------------------------------------\u001b[0m",
      "\u001b[1;31mAttributeError\u001b[0m                            Traceback (most recent call last)",
      "\u001b[1;32m<ipython-input-20-a6a3ded0fe6d>\u001b[0m in \u001b[0;36m<module>\u001b[1;34m\u001b[0m\n\u001b[0;32m      4\u001b[0m     \u001b[1;32mreturn\u001b[0m \u001b[0mb\u001b[0m\u001b[1;33m\u001b[0m\u001b[1;33m\u001b[0m\u001b[0m\n\u001b[0;32m      5\u001b[0m \u001b[1;33m\u001b[0m\u001b[0m\n\u001b[1;32m----> 6\u001b[1;33m \u001b[0mreverse_number\u001b[0m\u001b[1;33m(\u001b[0m\u001b[1;36m12\u001b[0m\u001b[1;33m)\u001b[0m\u001b[1;33m\u001b[0m\u001b[1;33m\u001b[0m\u001b[0m\n\u001b[0m",
      "\u001b[1;32m<ipython-input-20-a6a3ded0fe6d>\u001b[0m in \u001b[0;36mreverse_number\u001b[1;34m(n)\u001b[0m\n\u001b[0;32m      1\u001b[0m \u001b[1;32mdef\u001b[0m \u001b[0mreverse_number\u001b[0m\u001b[1;33m(\u001b[0m\u001b[0mn\u001b[0m\u001b[1;33m)\u001b[0m\u001b[1;33m:\u001b[0m\u001b[1;33m\u001b[0m\u001b[1;33m\u001b[0m\u001b[0m\n\u001b[0;32m      2\u001b[0m \u001b[1;33m\u001b[0m\u001b[0m\n\u001b[1;32m----> 3\u001b[1;33m     \u001b[0mb\u001b[0m \u001b[1;33m=\u001b[0m \u001b[0mn\u001b[0m\u001b[1;33m.\u001b[0m\u001b[0msort\u001b[0m\u001b[1;33m(\u001b[0m\u001b[0mreverse\u001b[0m \u001b[1;33m=\u001b[0m \u001b[1;32mTrue\u001b[0m\u001b[1;33m)\u001b[0m\u001b[1;33m\u001b[0m\u001b[1;33m\u001b[0m\u001b[0m\n\u001b[0m\u001b[0;32m      4\u001b[0m     \u001b[1;32mreturn\u001b[0m \u001b[0mb\u001b[0m\u001b[1;33m\u001b[0m\u001b[1;33m\u001b[0m\u001b[0m\n\u001b[0;32m      5\u001b[0m \u001b[1;33m\u001b[0m\u001b[0m\n",
      "\u001b[1;31mAttributeError\u001b[0m: 'int' object has no attribute 'sort'"
     ]
    }
   ],
   "source": [
    "def reverse_number(n):\n",
    "    \n",
    "    b = n.sort(reverse = True)\n",
    "    return b\n",
    "    \n",
    "reverse_number(12)"
   ]
  },
  {
   "cell_type": "code",
   "execution_count": 21,
   "metadata": {},
   "outputs": [
    {
     "data": {
      "text/plain": [
       "-32"
      ]
     },
     "execution_count": 21,
     "metadata": {},
     "output_type": "execute_result"
    }
   ],
   "source": [
    "def reverse_number(n):\n",
    "       return int(str(abs(n))[::-1]) *(-1)**(n<0)\n",
    "    \n",
    "reverse_number(-23)"
   ]
  },
  {
   "cell_type": "code",
   "execution_count": 22,
   "metadata": {},
   "outputs": [
    {
     "data": {
      "text/plain": [
       "'43435432'"
      ]
     },
     "execution_count": 22,
     "metadata": {},
     "output_type": "execute_result"
    }
   ],
   "source": [
    "a = \"23453434\"\n",
    "a[::-1]*(1)**(0)"
   ]
  },
  {
   "cell_type": "code",
   "execution_count": 26,
   "metadata": {},
   "outputs": [
    {
     "data": {
      "text/plain": [
       "\"['wie', 'gehts', 'es', 'dir']3\""
      ]
     },
     "execution_count": 26,
     "metadata": {},
     "output_type": "execute_result"
    }
   ],
   "source": [
    "def find_short(s):\n",
    "    c = 0\n",
    "    l = s.split()\n",
    "    \n",
    "    cx = min(l)\n",
    "    a = str(l) + \"\"+ str(len(cx))\n",
    "    return a\n",
    "\n",
    "find_short(\"wie gehts es dir\")"
   ]
  },
  {
   "cell_type": "code",
   "execution_count": null,
   "metadata": {},
   "outputs": [],
   "source": [
    "def greet(name, owner):\n",
    "    if name == owner:\n",
    "        return \"Hello Boss\"\n",
    "    else:\n",
    "        return \"Hello Guest\"\n",
    "greet(\"Boss\",\"Hello\")"
   ]
  },
  {
   "cell_type": "code",
   "execution_count": null,
   "metadata": {},
   "outputs": [],
   "source": [
    "def expanded_form(num):\n",
    "    result = []\n",
    "\n",
    "    for index, digit in enumerate(str(num)[::-1]):\n",
    "        if int(digit) != 0:\n",
    "            result.append(digit + ('0' * index))\n",
    "\n",
    "    return ' + '.join(result[::-1])\n",
    "expanded_form(2345)"
   ]
  },
  {
   "cell_type": "code",
   "execution_count": 105,
   "metadata": {},
   "outputs": [
    {
     "ename": "IndentationError",
     "evalue": "unexpected indent (<ipython-input-105-bdc37bfae08b>, line 4)",
     "output_type": "error",
     "traceback": [
      "\u001b[1;36m  File \u001b[1;32m\"<ipython-input-105-bdc37bfae08b>\"\u001b[1;36m, line \u001b[1;32m4\u001b[0m\n\u001b[1;33m    mylst = [\"Tiger 6\", \"Shark 4\", \"Cyborg 8\", \"34\"]\u001b[0m\n\u001b[1;37m    ^\u001b[0m\n\u001b[1;31mIndentationError\u001b[0m\u001b[1;31m:\u001b[0m unexpected indent\n"
     ]
    }
   ],
   "source": [
    "def last_letter(word):     \n",
    "   return word[::-1]\n",
    "\n",
    "        mylst = [\"Tiger 6\", \"Shark 4\", \"Cyborg 8\", \"34\"]\n",
    "        sorted(mylst, key=last_letter)\n",
    "    \n",
    "    \n",
    "    \n"
   ]
  },
  {
   "cell_type": "code",
   "execution_count": 106,
   "metadata": {},
   "outputs": [
    {
     "data": {
      "text/plain": [
       "<function sorted(iterable, /, *, key=None, reverse=False)>"
      ]
     },
     "execution_count": 106,
     "metadata": {},
     "output_type": "execute_result"
    }
   ],
   "source": [
    "s = [\"Tiger 6\", \"Shark 4\", \"Cyborg 8\"]\n",
    "def last_letter(word): \n",
    "    \n",
    "    sorted(s, key=lambda x: int(x[-1]))\n",
    "    return sorted\n",
    "\n",
    "last_letter(s)"
   ]
  },
  {
   "cell_type": "code",
   "execution_count": null,
   "metadata": {},
   "outputs": [],
   "source": []
  },
  {
   "cell_type": "code",
   "execution_count": 67,
   "metadata": {},
   "outputs": [
    {
     "data": {
      "text/plain": [
       "3"
      ]
     },
     "execution_count": 67,
     "metadata": {},
     "output_type": "execute_result"
    }
   ],
   "source": [
    "def find(s):\n",
    "    return min(len(i) for i in s.split())\n",
    "find(\"Hallo was geht leute\")"
   ]
  },
  {
   "cell_type": "code",
   "execution_count": 104,
   "metadata": {},
   "outputs": [
    {
     "ename": "TypeError",
     "evalue": "replace expected at least 2 arguments, got 1",
     "output_type": "error",
     "traceback": [
      "\u001b[1;31m---------------------------------------------------------------------------\u001b[0m",
      "\u001b[1;31mTypeError\u001b[0m                                 Traceback (most recent call last)",
      "\u001b[1;32m<ipython-input-104-bcc4353803b1>\u001b[0m in \u001b[0;36m<module>\u001b[1;34m\u001b[0m\n\u001b[0;32m      4\u001b[0m     \u001b[1;32mreturn\u001b[0m \u001b[0mi\u001b[0m\u001b[1;33m\u001b[0m\u001b[1;33m\u001b[0m\u001b[0m\n\u001b[0;32m      5\u001b[0m \u001b[1;33m\u001b[0m\u001b[0m\n\u001b[1;32m----> 6\u001b[1;33m \u001b[0mtemple_strings\u001b[0m\u001b[1;33m(\u001b[0m\u001b[1;33m(\u001b[0m\u001b[1;34m\"GO\"\u001b[0m\u001b[1;33m)\u001b[0m\u001b[1;33m,\u001b[0m\u001b[1;33m(\u001b[0m\u001b[1;34m\"Broncos\"\u001b[0m\u001b[1;33m)\u001b[0m\u001b[1;33m)\u001b[0m\u001b[1;33m\u001b[0m\u001b[1;33m\u001b[0m\u001b[0m\n\u001b[0m",
      "\u001b[1;32m<ipython-input-104-bcc4353803b1>\u001b[0m in \u001b[0;36mtemple_strings\u001b[1;34m(obj, feature)\u001b[0m\n\u001b[0;32m      1\u001b[0m \u001b[1;32mdef\u001b[0m \u001b[0mtemple_strings\u001b[0m\u001b[1;33m(\u001b[0m\u001b[0mobj\u001b[0m\u001b[1;33m,\u001b[0m \u001b[0mfeature\u001b[0m\u001b[1;33m)\u001b[0m\u001b[1;33m:\u001b[0m\u001b[1;33m\u001b[0m\u001b[1;33m\u001b[0m\u001b[0m\n\u001b[0;32m      2\u001b[0m     \u001b[1;32mfor\u001b[0m \u001b[0mi\u001b[0m \u001b[1;32min\u001b[0m \u001b[0mobj\u001b[0m\u001b[1;33m,\u001b[0m \u001b[0mfeature\u001b[0m\u001b[1;33m:\u001b[0m\u001b[1;33m\u001b[0m\u001b[1;33m\u001b[0m\u001b[0m\n\u001b[1;32m----> 3\u001b[1;33m         \u001b[0mi\u001b[0m\u001b[1;33m.\u001b[0m\u001b[0mreplace\u001b[0m\u001b[1;33m(\u001b[0m\u001b[1;34m\"),(\"\u001b[0m\u001b[1;33m)\u001b[0m\u001b[1;33m,\u001b[0m \u001b[1;33m(\u001b[0m\u001b[1;34m\"are\"\u001b[0m\u001b[1;33m)\u001b[0m\u001b[1;33m\u001b[0m\u001b[1;33m\u001b[0m\u001b[0m\n\u001b[0m\u001b[0;32m      4\u001b[0m     \u001b[1;32mreturn\u001b[0m \u001b[0mi\u001b[0m\u001b[1;33m\u001b[0m\u001b[1;33m\u001b[0m\u001b[0m\n\u001b[0;32m      5\u001b[0m \u001b[1;33m\u001b[0m\u001b[0m\n",
      "\u001b[1;31mTypeError\u001b[0m: replace expected at least 2 arguments, got 1"
     ]
    }
   ],
   "source": [
    "def temple_strings(obj, feature):\n",
    "    for i in obj, feature:\n",
    "        i.replace(\"),(\"), (\"are\")\n",
    "    return i\n",
    "        \n",
    "temple_strings((\"GO\"),(\"Broncos\"))"
   ]
  },
  {
   "cell_type": "code",
   "execution_count": 111,
   "metadata": {},
   "outputs": [
    {
     "data": {
      "text/plain": [
       "['o', 'l', 'e', 'd', 'M']"
      ]
     },
     "execution_count": 111,
     "metadata": {},
     "output_type": "execute_result"
    }
   ],
   "source": [
    "def reverse_letter(string):\n",
    "        a = sorted(string,reverse = True)\n",
    "        return a\n",
    "reverse_letter(\"Model\")"
   ]
  },
  {
   "cell_type": "code",
   "execution_count": 19,
   "metadata": {},
   "outputs": [
    {
     "name": "stdout",
     "output_type": "stream",
     "text": [
      "92\n"
     ]
    }
   ],
   "source": [
    "#<\n",
    "#new_avg([14, 30, 5, 7, 9, 11, 15], 92)  return 645\n",
    "z = sum([14, 30, 5, 7, 9, 11, 16,])\n",
    "z/7\n",
    "13.14*90\n",
    "print(z)"
   ]
  },
  {
   "cell_type": "code",
   "execution_count": null,
   "metadata": {},
   "outputs": [],
   "source": []
  }
 ],
 "metadata": {
  "kernelspec": {
   "display_name": "Python 3",
   "language": "python",
   "name": "python3"
  },
  "language_info": {
   "codemirror_mode": {
    "name": "ipython",
    "version": 3
   },
   "file_extension": ".py",
   "mimetype": "text/x-python",
   "name": "python",
   "nbconvert_exporter": "python",
   "pygments_lexer": "ipython3",
   "version": "3.8.3"
  }
 },
 "nbformat": 4,
 "nbformat_minor": 4
}
